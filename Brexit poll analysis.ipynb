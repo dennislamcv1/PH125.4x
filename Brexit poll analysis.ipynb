{
 "cells": [
  {
   "cell_type": "markdown",
   "metadata": {},
   "source": [
    "### Data Description"
   ]
  },
  {
   "cell_type": "markdown",
   "metadata": {},
   "source": [
    "In June 2016, the United Kingdom (UK) held a referendum to determine whether the country would \"Remain\" in the European Union (EU) or \"Leave\" the EU. This referendum is commonly known as Brexit. Although the media and others interpreted poll results as forecasting \"Remain\" (p>0.5), the actual proportion that voted \"Remain\" was only 48.1% (p=0.481) and the UK thus voted to leave the EU. Pollsters in the UK were criticized for overestimating support for \"Remain\". \n",
    "\n",
    "In this project, you will analyze real Brexit polling data to develop polling models to forecast Brexit results. You will write your own code in R and enter the answers on the edX platform."
   ]
  },
  {
   "cell_type": "code",
   "execution_count": 1,
   "metadata": {},
   "outputs": [],
   "source": [
    "import numpy as np\n",
    "import pandas as pd\n",
    "import matplotlib.pyplot as plt\n",
    "import seaborn as sns\n",
    "import datetime\n",
    "\n",
    "%matplotlib inline\n",
    "\n",
    "pd.set_option('display.max_columns',None)\n",
    "pd.set_option('display.max_rows',20)"
   ]
  },
  {
   "cell_type": "code",
   "execution_count": 2,
   "metadata": {},
   "outputs": [],
   "source": [
    "df = pd.read_csv(\"brexit.csv\",parse_dates=['startdate','enddate'])"
   ]
  },
  {
   "cell_type": "code",
   "execution_count": 3,
   "metadata": {
    "scrolled": false
   },
   "outputs": [
    {
     "data": {
      "text/html": [
       "<div>\n",
       "<style scoped>\n",
       "    .dataframe tbody tr th:only-of-type {\n",
       "        vertical-align: middle;\n",
       "    }\n",
       "\n",
       "    .dataframe tbody tr th {\n",
       "        vertical-align: top;\n",
       "    }\n",
       "\n",
       "    .dataframe thead th {\n",
       "        text-align: right;\n",
       "    }\n",
       "</style>\n",
       "<table border=\"1\" class=\"dataframe\">\n",
       "  <thead>\n",
       "    <tr style=\"text-align: right;\">\n",
       "      <th></th>\n",
       "      <th>startdate</th>\n",
       "      <th>enddate</th>\n",
       "      <th>pollster</th>\n",
       "      <th>poll_type</th>\n",
       "      <th>samplesize</th>\n",
       "      <th>remain</th>\n",
       "      <th>leave</th>\n",
       "      <th>undecided</th>\n",
       "      <th>spread</th>\n",
       "    </tr>\n",
       "  </thead>\n",
       "  <tbody>\n",
       "    <tr>\n",
       "      <th>0</th>\n",
       "      <td>2016-06-23</td>\n",
       "      <td>2016-06-23</td>\n",
       "      <td>YouGov</td>\n",
       "      <td>Online</td>\n",
       "      <td>4772</td>\n",
       "      <td>0.52</td>\n",
       "      <td>0.48</td>\n",
       "      <td>0.00</td>\n",
       "      <td>0.04</td>\n",
       "    </tr>\n",
       "    <tr>\n",
       "      <th>1</th>\n",
       "      <td>2016-06-22</td>\n",
       "      <td>2016-06-22</td>\n",
       "      <td>Populus</td>\n",
       "      <td>Online</td>\n",
       "      <td>4700</td>\n",
       "      <td>0.55</td>\n",
       "      <td>0.45</td>\n",
       "      <td>0.00</td>\n",
       "      <td>0.10</td>\n",
       "    </tr>\n",
       "    <tr>\n",
       "      <th>2</th>\n",
       "      <td>2016-06-20</td>\n",
       "      <td>2016-06-22</td>\n",
       "      <td>YouGov</td>\n",
       "      <td>Online</td>\n",
       "      <td>3766</td>\n",
       "      <td>0.51</td>\n",
       "      <td>0.49</td>\n",
       "      <td>0.00</td>\n",
       "      <td>0.02</td>\n",
       "    </tr>\n",
       "    <tr>\n",
       "      <th>3</th>\n",
       "      <td>2016-06-20</td>\n",
       "      <td>2016-06-22</td>\n",
       "      <td>Ipsos MORI</td>\n",
       "      <td>Telephone</td>\n",
       "      <td>1592</td>\n",
       "      <td>0.49</td>\n",
       "      <td>0.46</td>\n",
       "      <td>0.01</td>\n",
       "      <td>0.03</td>\n",
       "    </tr>\n",
       "    <tr>\n",
       "      <th>4</th>\n",
       "      <td>2016-06-20</td>\n",
       "      <td>2016-06-22</td>\n",
       "      <td>Opinium</td>\n",
       "      <td>Online</td>\n",
       "      <td>3011</td>\n",
       "      <td>0.44</td>\n",
       "      <td>0.45</td>\n",
       "      <td>0.09</td>\n",
       "      <td>-0.01</td>\n",
       "    </tr>\n",
       "    <tr>\n",
       "      <th>...</th>\n",
       "      <td>...</td>\n",
       "      <td>...</td>\n",
       "      <td>...</td>\n",
       "      <td>...</td>\n",
       "      <td>...</td>\n",
       "      <td>...</td>\n",
       "      <td>...</td>\n",
       "      <td>...</td>\n",
       "      <td>...</td>\n",
       "    </tr>\n",
       "    <tr>\n",
       "      <th>122</th>\n",
       "      <td>2016-01-20</td>\n",
       "      <td>2016-01-21</td>\n",
       "      <td>ORB</td>\n",
       "      <td>Online</td>\n",
       "      <td>2015</td>\n",
       "      <td>0.52</td>\n",
       "      <td>0.48</td>\n",
       "      <td>0.00</td>\n",
       "      <td>0.04</td>\n",
       "    </tr>\n",
       "    <tr>\n",
       "      <th>123</th>\n",
       "      <td>2016-01-15</td>\n",
       "      <td>2016-01-17</td>\n",
       "      <td>ICM</td>\n",
       "      <td>Online</td>\n",
       "      <td>2023</td>\n",
       "      <td>0.42</td>\n",
       "      <td>0.40</td>\n",
       "      <td>0.17</td>\n",
       "      <td>0.02</td>\n",
       "    </tr>\n",
       "    <tr>\n",
       "      <th>124</th>\n",
       "      <td>2016-01-15</td>\n",
       "      <td>2016-01-16</td>\n",
       "      <td>Survation</td>\n",
       "      <td>Online</td>\n",
       "      <td>1017</td>\n",
       "      <td>0.38</td>\n",
       "      <td>0.40</td>\n",
       "      <td>0.22</td>\n",
       "      <td>-0.02</td>\n",
       "    </tr>\n",
       "    <tr>\n",
       "      <th>125</th>\n",
       "      <td>2016-01-08</td>\n",
       "      <td>2016-01-14</td>\n",
       "      <td>Panelbase</td>\n",
       "      <td>Online</td>\n",
       "      <td>2087</td>\n",
       "      <td>0.42</td>\n",
       "      <td>0.45</td>\n",
       "      <td>0.12</td>\n",
       "      <td>-0.03</td>\n",
       "    </tr>\n",
       "    <tr>\n",
       "      <th>126</th>\n",
       "      <td>2016-01-08</td>\n",
       "      <td>2016-01-10</td>\n",
       "      <td>ICM</td>\n",
       "      <td>Online</td>\n",
       "      <td>2055</td>\n",
       "      <td>0.44</td>\n",
       "      <td>0.38</td>\n",
       "      <td>0.18</td>\n",
       "      <td>0.06</td>\n",
       "    </tr>\n",
       "  </tbody>\n",
       "</table>\n",
       "<p>127 rows × 9 columns</p>\n",
       "</div>"
      ],
      "text/plain": [
       "     startdate    enddate    pollster  poll_type  samplesize  remain  leave  \\\n",
       "0   2016-06-23 2016-06-23      YouGov     Online        4772    0.52   0.48   \n",
       "1   2016-06-22 2016-06-22     Populus     Online        4700    0.55   0.45   \n",
       "2   2016-06-20 2016-06-22      YouGov     Online        3766    0.51   0.49   \n",
       "3   2016-06-20 2016-06-22  Ipsos MORI  Telephone        1592    0.49   0.46   \n",
       "4   2016-06-20 2016-06-22     Opinium     Online        3011    0.44   0.45   \n",
       "..         ...        ...         ...        ...         ...     ...    ...   \n",
       "122 2016-01-20 2016-01-21         ORB     Online        2015    0.52   0.48   \n",
       "123 2016-01-15 2016-01-17         ICM     Online        2023    0.42   0.40   \n",
       "124 2016-01-15 2016-01-16   Survation     Online        1017    0.38   0.40   \n",
       "125 2016-01-08 2016-01-14   Panelbase     Online        2087    0.42   0.45   \n",
       "126 2016-01-08 2016-01-10         ICM     Online        2055    0.44   0.38   \n",
       "\n",
       "     undecided  spread  \n",
       "0         0.00    0.04  \n",
       "1         0.00    0.10  \n",
       "2         0.00    0.02  \n",
       "3         0.01    0.03  \n",
       "4         0.09   -0.01  \n",
       "..         ...     ...  \n",
       "122       0.00    0.04  \n",
       "123       0.17    0.02  \n",
       "124       0.22   -0.02  \n",
       "125       0.12   -0.03  \n",
       "126       0.18    0.06  \n",
       "\n",
       "[127 rows x 9 columns]"
      ]
     },
     "execution_count": 3,
     "metadata": {},
     "output_type": "execute_result"
    }
   ],
   "source": [
    "df"
   ]
  },
  {
   "cell_type": "code",
   "execution_count": 4,
   "metadata": {},
   "outputs": [
    {
     "name": "stdout",
     "output_type": "stream",
     "text": [
      "<class 'pandas.core.frame.DataFrame'>\n",
      "RangeIndex: 127 entries, 0 to 126\n",
      "Data columns (total 9 columns):\n",
      " #   Column      Non-Null Count  Dtype         \n",
      "---  ------      --------------  -----         \n",
      " 0   startdate   127 non-null    datetime64[ns]\n",
      " 1   enddate     127 non-null    datetime64[ns]\n",
      " 2   pollster    127 non-null    object        \n",
      " 3   poll_type   127 non-null    object        \n",
      " 4   samplesize  127 non-null    int64         \n",
      " 5   remain      127 non-null    float64       \n",
      " 6   leave       127 non-null    float64       \n",
      " 7   undecided   127 non-null    float64       \n",
      " 8   spread      127 non-null    float64       \n",
      "dtypes: datetime64[ns](2), float64(4), int64(1), object(2)\n",
      "memory usage: 9.1+ KB\n"
     ]
    }
   ],
   "source": [
    "df.info()"
   ]
  },
  {
   "cell_type": "code",
   "execution_count": 5,
   "metadata": {},
   "outputs": [
    {
     "data": {
      "text/html": [
       "<div>\n",
       "<style scoped>\n",
       "    .dataframe tbody tr th:only-of-type {\n",
       "        vertical-align: middle;\n",
       "    }\n",
       "\n",
       "    .dataframe tbody tr th {\n",
       "        vertical-align: top;\n",
       "    }\n",
       "\n",
       "    .dataframe thead th {\n",
       "        text-align: right;\n",
       "    }\n",
       "</style>\n",
       "<table border=\"1\" class=\"dataframe\">\n",
       "  <thead>\n",
       "    <tr style=\"text-align: right;\">\n",
       "      <th></th>\n",
       "      <th>samplesize</th>\n",
       "      <th>remain</th>\n",
       "      <th>leave</th>\n",
       "      <th>undecided</th>\n",
       "      <th>spread</th>\n",
       "    </tr>\n",
       "  </thead>\n",
       "  <tbody>\n",
       "    <tr>\n",
       "      <th>count</th>\n",
       "      <td>127.000000</td>\n",
       "      <td>127.000000</td>\n",
       "      <td>127.000000</td>\n",
       "      <td>127.000000</td>\n",
       "      <td>127.000000</td>\n",
       "    </tr>\n",
       "    <tr>\n",
       "      <th>mean</th>\n",
       "      <td>1694.456693</td>\n",
       "      <td>0.442362</td>\n",
       "      <td>0.422283</td>\n",
       "      <td>0.126457</td>\n",
       "      <td>0.020079</td>\n",
       "    </tr>\n",
       "    <tr>\n",
       "      <th>std</th>\n",
       "      <td>791.793231</td>\n",
       "      <td>0.049256</td>\n",
       "      <td>0.041827</td>\n",
       "      <td>0.066470</td>\n",
       "      <td>0.058750</td>\n",
       "    </tr>\n",
       "    <tr>\n",
       "      <th>min</th>\n",
       "      <td>497.000000</td>\n",
       "      <td>0.350000</td>\n",
       "      <td>0.320000</td>\n",
       "      <td>0.000000</td>\n",
       "      <td>-0.100000</td>\n",
       "    </tr>\n",
       "    <tr>\n",
       "      <th>25%</th>\n",
       "      <td>1009.500000</td>\n",
       "      <td>0.410000</td>\n",
       "      <td>0.390000</td>\n",
       "      <td>0.090000</td>\n",
       "      <td>-0.020000</td>\n",
       "    </tr>\n",
       "    <tr>\n",
       "      <th>50%</th>\n",
       "      <td>1693.000000</td>\n",
       "      <td>0.440000</td>\n",
       "      <td>0.420000</td>\n",
       "      <td>0.130000</td>\n",
       "      <td>0.010000</td>\n",
       "    </tr>\n",
       "    <tr>\n",
       "      <th>75%</th>\n",
       "      <td>2009.500000</td>\n",
       "      <td>0.480000</td>\n",
       "      <td>0.450000</td>\n",
       "      <td>0.170000</td>\n",
       "      <td>0.050000</td>\n",
       "    </tr>\n",
       "    <tr>\n",
       "      <th>max</th>\n",
       "      <td>4772.000000</td>\n",
       "      <td>0.550000</td>\n",
       "      <td>0.550000</td>\n",
       "      <td>0.300000</td>\n",
       "      <td>0.190000</td>\n",
       "    </tr>\n",
       "  </tbody>\n",
       "</table>\n",
       "</div>"
      ],
      "text/plain": [
       "        samplesize      remain       leave   undecided      spread\n",
       "count   127.000000  127.000000  127.000000  127.000000  127.000000\n",
       "mean   1694.456693    0.442362    0.422283    0.126457    0.020079\n",
       "std     791.793231    0.049256    0.041827    0.066470    0.058750\n",
       "min     497.000000    0.350000    0.320000    0.000000   -0.100000\n",
       "25%    1009.500000    0.410000    0.390000    0.090000   -0.020000\n",
       "50%    1693.000000    0.440000    0.420000    0.130000    0.010000\n",
       "75%    2009.500000    0.480000    0.450000    0.170000    0.050000\n",
       "max    4772.000000    0.550000    0.550000    0.300000    0.190000"
      ]
     },
     "execution_count": 5,
     "metadata": {},
     "output_type": "execute_result"
    }
   ],
   "source": [
    "df.describe()"
   ]
  },
  {
   "cell_type": "code",
   "execution_count": 6,
   "metadata": {},
   "outputs": [],
   "source": [
    "#QUESTION 1: EXPECTED VALUE AND STANDARD ERROR OF A POLL"
   ]
  },
  {
   "cell_type": "code",
   "execution_count": 7,
   "metadata": {},
   "outputs": [],
   "source": [
    "#QUESTION 2: ACTUAL BREXIT POLL ESTIMATES"
   ]
  },
  {
   "cell_type": "code",
   "execution_count": 8,
   "metadata": {},
   "outputs": [],
   "source": [
    "#QUESTION 3: CONFIDENCE INTERVAL OF A BREXIT POLL"
   ]
  },
  {
   "cell_type": "code",
   "execution_count": 9,
   "metadata": {},
   "outputs": [],
   "source": [
    "#QUESTION 4: CONFIDENCE INTERVALS FOR POLLS IN JUNE"
   ]
  },
  {
   "cell_type": "code",
   "execution_count": 10,
   "metadata": {},
   "outputs": [],
   "source": [
    "#QUESTION 5: HIT RATE BY POLLSTER"
   ]
  },
  {
   "cell_type": "code",
   "execution_count": 11,
   "metadata": {},
   "outputs": [
    {
     "data": {
      "text/plain": [
       "Index(['startdate', 'enddate', 'pollster', 'poll_type', 'samplesize', 'remain',\n",
       "       'leave', 'undecided', 'spread'],\n",
       "      dtype='object')"
      ]
     },
     "execution_count": 11,
     "metadata": {},
     "output_type": "execute_result"
    }
   ],
   "source": [
    "#QUESTION 6: BOXPLOT OF BREXIT POLLS BY POLL TYPE\n",
    "df.columns"
   ]
  },
  {
   "cell_type": "code",
   "execution_count": 12,
   "metadata": {},
   "outputs": [
    {
     "data": {
      "image/png": "[encoded data removed]",
      "text/plain": [
       "<Figure size 432x288 with 1 Axes>"
      ]
     },
     "metadata": {
      "needs_background": "light"
     },
     "output_type": "display_data"
    }
   ],
   "source": [
    "sns.boxplot(x='poll_type', y='samplesize', data=df);"
   ]
  },
  {
   "cell_type": "code",
   "execution_count": 13,
   "metadata": {},
   "outputs": [],
   "source": [
    "#QUESTION 7: COMBINED SPREAD ACROSS POLL TYPE"
   ]
  },
  {
   "cell_type": "code",
   "execution_count": 14,
   "metadata": {},
   "outputs": [],
   "source": [
    "#QUESTION 8: INTERPRETING COMBINED SPREAD ESTIMATES"
   ]
  },
  {
   "cell_type": "code",
   "execution_count": 15,
   "metadata": {},
   "outputs": [],
   "source": [
    "#QUESTION 9: CHI-SQUARED P-VALUE"
   ]
  },
  {
   "cell_type": "code",
   "execution_count": 16,
   "metadata": {},
   "outputs": [],
   "source": [
    "#QUESTION 10: ODDS RATIO OF ONLINE AND TELEPHONE"
   ]
  },
  {
   "cell_type": "code",
   "execution_count": 17,
   "metadata": {},
   "outputs": [
    {
     "data": {
      "image/png": "[encoded data removed]",
      "text/plain": [
       "<Figure size 432x288 with 1 Axes>"
      ]
     },
     "metadata": {
      "needs_background": "light"
     },
     "output_type": "display_data"
    }
   ],
   "source": [
    "#QUESTION 11: PLOTTING SPREAD OVER TIME\n",
    "sns.lineplot(x='startdate', y='spread', data=df);"
   ]
  },
  {
   "cell_type": "code",
   "execution_count": 18,
   "metadata": {},
   "outputs": [
    {
     "data": {
      "image/png": "[encoded data removed]",
      "text/plain": [
       "<Figure size 432x288 with 1 Axes>"
      ]
     },
     "metadata": {
      "needs_background": "light"
     },
     "output_type": "display_data"
    }
   ],
   "source": [
    "#QUESTION 12: PLOTTING RAW PERCENTAGES OVER TIME\n",
    "sns.lineplot(x='startdate', y='leave', data=df);"
   ]
  },
  {
   "cell_type": "code",
   "execution_count": null,
   "metadata": {},
   "outputs": [],
   "source": []
  }
 ],
 "metadata": {
  "kernelspec": {
   "display_name": "Python 3",
   "language": "python",
   "name": "python3"
  },
  "language_info": {
   "codemirror_mode": {
    "name": "ipython",
    "version": 3
   },
   "file_extension": ".py",
   "mimetype": "text/x-python",
   "name": "python",
   "nbconvert_exporter": "python",
   "pygments_lexer": "ipython3",
   "version": "3.7.6"
  }
 },
 "nbformat": 4,
 "nbformat_minor": 4
}
